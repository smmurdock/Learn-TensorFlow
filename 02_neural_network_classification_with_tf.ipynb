{
  "nbformat": 4,
  "nbformat_minor": 0,
  "metadata": {
    "colab": {
      "provenance": [],
      "toc_visible": true,
      "authorship_tag": "ABX9TyPlLFHBkkrf6hBdbMRkH5ak",
      "include_colab_link": true
    },
    "kernelspec": {
      "name": "python3",
      "display_name": "Python 3"
    },
    "language_info": {
      "name": "python"
    }
  },
  "cells": [
    {
      "cell_type": "markdown",
      "metadata": {
        "id": "view-in-github",
        "colab_type": "text"
      },
      "source": [
        "<a href=\"https://colab.research.google.com/github/smmurdock/Learn-TensorFlow/blob/main/02_neural_network_classification_with_tf.ipynb\" target=\"_parent\"><img src=\"https://colab.research.google.com/assets/colab-badge.svg\" alt=\"Open In Colab\"/></a>"
      ]
    },
    {
      "cell_type": "markdown",
      "source": [
        "# 02. Neural Network Classification with TensorFlow"
      ],
      "metadata": {
        "id": "Qzf8PxZHu9oh"
      }
    },
    {
      "cell_type": "markdown",
      "source": [
        "Let's look at how we can approach a classification problem.\n",
        "\n",
        "A classification problem involves predicting whether something is one thing or another.\n",
        "\n",
        "For example, you might want to:\n",
        "* Predict whether or not someone has heart disease based on their health parameters. This is called **binary classification** since there are only two options.\n",
        "* Decide whether a photo is of a food, a person, or a dog. This is called **multi-class classification** since there are more than two options.\n",
        "* Predict which categories should be assigned to a Wikipedia article. This is called **multi-label classification** since a single article could have more than one category assigned.\n",
        "\n",
        "In this notebook, we're going to work through a number of different classification problems with TensorFlow. In other words, taking a set of inputs and predicting what class those set of inputs belong to."
      ],
      "metadata": {
        "id": "oeKgtNCivEqK"
      }
    },
    {
      "cell_type": "markdown",
      "source": [
        "## What we're going to cover"
      ],
      "metadata": {
        "id": "2tNfq5PSvrL2"
      }
    },
    {
      "cell_type": "markdown",
      "source": [
        "Specifically, we're going to go through doing the following with TensorFlow:\n",
        "* Architecture of a classification model\n",
        "* Input shapes and output shapes\n",
        "  * `X`: features/data (input)\n",
        "  * `y`: labels (outputs)\n",
        "    * \"What class do the inputs belong to?\"\n",
        "* Creating custom data to view and fit\n",
        "* Steps in modeling for binary and multi-class classification\n",
        "  * Creating a model\n",
        "  * Compiling a model\n",
        "    * Defining a loss function\n",
        "    * Setting up an optimizer\n",
        "      * Finding the best learning rate\n",
        "    * Creating evaluation metrics\n",
        "  * Fitting a model (getting it to find patterns in our data)\n",
        "  * Improving a model\n",
        "* The power of non-linearity\n",
        "* Evaluating classification models\n",
        "  * Visualizing the model (\"visualize, visualize, visualize\")\n",
        "  * Looking at training curves\n",
        "  * Compare predictions to ground truth (using our evaluation metrics)"
      ],
      "metadata": {
        "id": "qGKJ7ts9vuIM"
      }
    },
    {
      "cell_type": "markdown",
      "source": [
        "## Typical architecture of a classification neural network"
      ],
      "metadata": {
        "id": "VnoXR3mBw2eo"
      }
    },
    {
      "cell_type": "markdown",
      "source": [
        "The word _typical_ is on purpose.\n",
        "\n",
        "That's because the architecture of a classification neural network can widely vary depending on the problem you're working on.\n",
        "\n",
        "However, there are some fundamentals all deep neural networks contain:\n",
        "\n",
        "* An input layer.\n",
        "* Some hidden layers.\n",
        "* An output layer.\n",
        "\n",
        "Much of the rest is up to the data analyst creating the model.\n",
        "\n",
        "The following are some standard values you'll often use in your classification neural networks:\n",
        "\n",
        "Hyperparamter | Binary Classification | Multiclass Classification\n",
        ":-- | :-- | :--\n",
        "Input layer shape | Same as number of features (e.g. 5 for age, sex, height, weight, smoking status in heart disease prediction) | Same as binary classification\n",
        "Hidden layer(s) | Problem specific, minimum = 1, maximum = unlimited | Same as binary classification\n",
        "Neurons per hidden layer | Problem specific, generally 10 to 100 | Same as binary classification\n",
        "Outer layer shape | 1 (one class or the other) | 1 per class (e.g. 3 for food, person, or dog photo)\n",
        "Hidden activation | Usually ReLU (rectified linear unit) | Same as binary classification\n",
        "Output activation | Sigmoid | Softmax\n",
        "Loss function | Cross entropy (`tf.keras.losses.BinaryCrossentropy` in TensorFlow) | Cross entropy (`tf.keras.losses.CategoricalCrossentropy` in TensorFlow)\n",
        "Optimizer | SGD (stochastic gradient descent), Adam | Same as binary classification\n",
        "\n",
        "Table 1: Typical architecture of a classification network. Source: Adapted from page 295 of Hands-On Machine Learning with Scikit-Learn, Keras, & TensorFlow book by Aurelien Geron."
      ],
      "metadata": {
        "id": "FWcJyz1dw-e0"
      }
    },
    {
      "cell_type": "code",
      "execution_count": 1,
      "metadata": {
        "colab": {
          "base_uri": "https://localhost:8080/"
        },
        "id": "Lw3TZBaXukCX",
        "outputId": "f06ee4aa-ad3a-4e2a-8f1a-b534c2fa201d"
      },
      "outputs": [
        {
          "output_type": "stream",
          "name": "stdout",
          "text": [
            "2.19.0\n",
            "Notebook last run (end-to-end): 2025-09-29 18:45:11.931923\n"
          ]
        }
      ],
      "source": [
        "import tensorflow as tf\n",
        "print(tf.__version__)\n",
        "\n",
        "import datetime\n",
        "print(f\"Notebook last run (end-to-end): {datetime.datetime.now()}\")"
      ]
    },
    {
      "cell_type": "code",
      "source": [],
      "metadata": {
        "id": "Q2ZySa_Kyt_D"
      },
      "execution_count": null,
      "outputs": []
    }
  ]
}